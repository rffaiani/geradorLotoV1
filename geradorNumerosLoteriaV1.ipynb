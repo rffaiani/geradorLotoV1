{
  "nbformat": 4,
  "nbformat_minor": 0,
  "metadata": {
    "colab": {
      "name": "geradorNumerosLoteriaV1.ipynb",
      "provenance": [],
      "collapsed_sections": [],
      "authorship_tag": "ABX9TyPwSdWvzDUZXbgJyZmKo+co"
    },
    "kernelspec": {
      "name": "python3",
      "display_name": "Python 3"
    }
  },
  "cells": [
    {
      "cell_type": "code",
      "metadata": {
        "colab": {
          "base_uri": "https://localhost:8080/"
        },
        "id": "RwxvnKVDtOlS",
        "outputId": "a1860053-584f-4dcb-e169-56434a471c9a"
      },
      "source": [
        "# Programa Loteria \r\n",
        "# Números aleatórios (Megasena/Quina/DuplaSena/Lotofácil)\r\n",
        "\r\n",
        "import random\r\n",
        "\r\n",
        "print(\"###########################################################\")\r\n",
        "print(\"##########   LOTERIA   ####################################\")\r\n",
        "print(\"##########   Gerador de números aleatórios   ##############\")\r\n",
        "print(\"###########################################################\")\r\n",
        "print(\"############ Escolha 1 para MEGASENA #########\")\r\n",
        "print(\"############ Escolha 2 para QUINA ############\")\r\n",
        "print(\"############ Escolha 3 para DUPLASENA ########\")\r\n",
        "print(\"############ Escolha 4 para LOTOFÁCIL ########\")\r\n",
        "print(\"############ Escolha 5 para LOTOMANIA ########\")\r\n",
        "print(\"###########################################################\")\r\n",
        "print(\"###########################################################\")\r\n",
        "print(\"\")\r\n",
        "\r\n",
        "opcao = int(input(\"Entre com a opção desejada: \"))\r\n",
        "\r\n",
        "while opcao > 5:\r\n",
        "  opcao = int(input(\"Entre com a opção desejada: \"))\r\n",
        "\r\n",
        "if opcao == 1:\r\n",
        "  print(\"Escolhido MegaSena...\")\r\n",
        "  print(\"Aguarde processamento dos 6 números aleatórios...\")\r\n",
        "  i=0\r\n",
        "  while i<6:\r\n",
        "    mega = random.randint(1,60)\r\n",
        "    print(f\"--> {mega}\")\r\n",
        "    i = i+1\r\n",
        "\r\n",
        "elif opcao == 2:\r\n",
        "   print(\"Escolhido Quina...\")\r\n",
        "   print(\"Aguarde processamento dos 5 números aleatórios...\")\r\n",
        "   i=0\r\n",
        "   while i<5:\r\n",
        "     quina = random.randint(1,80)\r\n",
        "     print(f\"--> {quina}\")\r\n",
        "     i = i+1\r\n",
        "\r\n",
        "elif opcao == 3:\r\n",
        "  print(\"Escolhido DuplaSena...\")\r\n",
        "  print(\"Aguarde processamento dos 6 números aleatórios...\")\r\n",
        "  i=0\r\n",
        "  while i<6:\r\n",
        "    dupla = random.randint(1,50)\r\n",
        "    print(f\"--> {dupla}\")\r\n",
        "    i = i+1\r\n",
        "  \r\n",
        "elif opcao == 4:\r\n",
        "  print(\"Escolhido Lotofácil...\")\r\n",
        "  print(\"Aguarde processamento dos 15 números aleatórios...\")\r\n",
        "  i=0\r\n",
        "  while i<15:\r\n",
        "    lotof = random.randint(1,25)\r\n",
        "    print(f\"--> {lotof}\")\r\n",
        "    i = i+1\r\n",
        "\r\n",
        "else:\r\n",
        "  print(\"Escolhido Lotomania...\")\r\n",
        "  print(\"Aguarde processamento dos 50 números aleatórios...\")\r\n",
        "  i=0\r\n",
        "  while i<50:\r\n",
        "    lotom = random.randint(1,99)\r\n",
        "    print(f\"--> {lotom}\")\r\n",
        "    i = i+1\r\n"
      ],
      "execution_count": 13,
      "outputs": [
        {
          "output_type": "stream",
          "text": [
            "###########################################################\n",
            "##########   LOTERIA   ####################################\n",
            "##########   Gerador de números aleatórios   ##############\n",
            "###########################################################\n",
            "############ Escolha 1 para MEGASENA #########\n",
            "############ Escolha 2 para QUINA ############\n",
            "############ Escolha 3 para DUPLASENA ########\n",
            "############ Escolha 4 para LOTOFÁCIL ########\n",
            "############ Escolha 5 para LOTOMANIA ########\n",
            "###########################################################\n",
            "###########################################################\n",
            "\n",
            "Entre com a opção desejada: 6\n",
            "Entre com a opção desejada: 2\n",
            "Escolhido Quina...\n",
            "Aguarde processamento dos 5 números aleatórios...\n",
            "--> 34\n",
            "--> 13\n",
            "--> 78\n",
            "--> 49\n",
            "--> 64\n"
          ],
          "name": "stdout"
        }
      ]
    }
  ]
}